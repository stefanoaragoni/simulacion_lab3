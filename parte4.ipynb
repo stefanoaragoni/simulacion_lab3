{
 "cells": [
  {
   "cell_type": "markdown",
   "metadata": {},
   "source": [
    "## Parte 4 - Laboratorio 3 - Modelación y Simulación\n",
    "\n",
    "Stefano Aragoni, Carol Arévalo, Luis Santos, Diego Perdomo\n"
   ]
  },
  {
   "cell_type": "markdown",
   "metadata": {},
   "source": [
    "-------\n",
    "## Tasks 1\n",
    "\n",
    "Suponiendo que es simple generar variables aleatorias con función de probabilidad acumulada Fi(x) para i de 1 a n, tenemos la variable aleatoria V con una función de probabilidad acumulada \n",
    "\n",
    "F(x) = Σ p_i * F_i(x),\n",
    "\n",
    "Donde pi constituye una distribución probabilística\n",
    "1. Describa un algoritmo para generar V\n",
    "2. Demuestre que el algoritmo genera adecuadamente V"
   ]
  },
  {
   "cell_type": "markdown",
   "metadata": {},
   "source": [
    "Para generar la variable aleatoria V con función de probabilidad acumulada F(x) = Σ p_i * F_i(x), podemos utilizar el método de composición. Este método consiste en generar una variable aleatoria U con distribución uniforme en [0,1] y luego aplicar la transformación inversa de F(x) a U. Es decir, se busca x tal que F(x) = U y se define V = x.\n",
    "\n",
    "Fuente:\n",
    "https://www.famaf.unc.edu.ar/~kisbye/mys/clase8_pr.pdf\n",
    "\n",
    "El algoritmo consiste en dos pasos: en el primer paso, generamos una variable aleatoria discreta Y con función de probabilidad acumulada p_i. En el segundo paso, condicionado a Y = i, generamos una variable aleatoria X con función de probabilidad acumulada F_i(x). La variable V será igual a X si Y = i.\n",
    "\n",
    "Paso a paso:\n",
    "\n",
    "\n",
    "1. Generar Y:\n",
    "    a. Generamos un número aleatorio uniforme U en el intervalo (0, 1).\n",
    "    b. Usamos la función de probabilidad acumulada p_i para determinar el valor de Y. Para hacer esto, comparamos U con los valores de la función acumulada de p_i:\n",
    "\n",
    "        Si U < p_1, entonces Y = 1.\n",
    "        Si p_1 ≤ U < p_1 + p_2, entonces Y = 2.\n",
    "        Y así sucesivamente, hasta n.\n",
    "\n",
    "En la primera etapa, se genera una variable aleatoria discreta Y utilizando el método de la transformación inversa con la distribución discreta dada por la función de probabilidad acumulada p_i. Aquí es donde se aplica la transformación inversa de F(x) a U (un número aleatorio uniforme en [0, 1]) para obtener Y. La variable U se utiliza para determinar el valor de Y según los rangos definidos por la función acumulada p_i.\n",
    "\n",
    "\n",
    "\n",
    "2. Generar X condicionado a Y:\n",
    "    a. Si Y = i (es decir, se seleccionó la distribución i-ésima), generamos un número aleatorio X utilizando la función de probabilidad acumulada F_i(x). Para esto, repetimos el siguiente procedimiento hasta que se obtenga un valor de X válido:\n",
    "        i. Generamos un número aleatorio V_i en el intervalo (0, 1).\n",
    "        ii. Resolvemos la ecuación F_i(X) = V_i para obtener el valor de X.\n",
    "\n",
    "En la segunda etapa, condicionado a Y = i (es decir, se seleccionó la distribución i-ésima en la primera etapa), se genera una variable aleatoria continua X utilizando nuevamente la transformación inversa, pero esta vez con la distribución F_i(x). Se genera un número aleatorio V_i uniforme en el intervalo (0, 1), y se resuelve la ecuación F_i(X) = V_i para obtener el valor de X. Si Y ≠ i, se repite el proceso desde el primer paso para obtener un nuevo valor de Y.\n",
    "\n",
    "3. V es igual a X si Y = i. Si Y ≠ i, volvemos al paso 1 y repetimos el proceso para obtener un nuevo valor de Y.\n",
    "_____________________________________________________________________\n",
    "\n"
   ]
  },
  {
   "cell_type": "markdown",
   "metadata": {},
   "source": [
    "Para demostrar que el algoritmo propuesto genera adecuadamente la variable aleatoria V con función de probabilidad acumulada F(x) = Σ p_i * F_i(x), debemos se verifican dos cosas:\n",
    "\n",
    "1. La distribución de la variable aleatoria Y generada en el paso 1 corresponde a la función de probabilidad acumulada p_i.\n",
    "\n",
    "En el paso 1 del algoritmo, se genera la variable aleatoria discreta Y siguiendo el método de la transformación inversa con la distribución de probabilidad acumulada p_i. Esto significa que la probabilidad de que Y tome el valor i, P(Y = i), es igual a la probabilidad acumulada p_i en ese punto.\n",
    "\n",
    "Probabilidad de que Y = i:\n",
    "P(Y = i) = P(U < p_1 + p_2 + ... + p_i) - P(U < p_1 + p_2 + ... + p_{i-1}) = p_i.\n",
    "\n",
    "\n",
    "\n",
    "2. La distribución condicional de la variable aleatoria X, dado que Y = i, corresponde a la función de probabilidad acumulada F_i(x).\n",
    "Demostración:\n",
    "\n",
    "En el paso 2 del algoritmo, condicionado a Y = i, se genera la variable aleatoria continua X utilizando el método de la transformación inversa con la distribución de probabilidad acumulada F_i(x).\n",
    "\n",
    "Probabilidad de que X ≤ x, dado que Y = i:\n",
    "P(X ≤ x | Y = i) = P(F_i(X) ≤ F_i(x) | Y = i) (debido a que F_i es una función de probabilidad acumulada)\n",
    "= P(V_i ≤ F_i(x)) (donde V_i es la variable aleatoria uniforme generada en el paso 2)\n",
    "= F_i(x).\n",
    "\n",
    "Hemos demostrado que la distribución condicional de X, dado que Y = i, corresponde a la función de probabilidad acumulada F_i(x).\n",
    "\n"
   ]
  },
  {
   "cell_type": "markdown",
   "metadata": {},
   "source": [
    "-------\n",
    "## Tasks 2\n",
    "\n",
    "Escriba un programa tal que, dada una función de masa de probabilidad (pi para i de 1 a n), proporcione como salida el valor de una variable aleatoria con esta función de masa. Haga un histograma para alguna distribución de ejemplo."
   ]
  },
  {
   "cell_type": "code",
   "execution_count": 1,
   "metadata": {},
   "outputs": [
    {
     "data": {
      "image/png": "[encoded data removed]",
      "text/plain": [
       "<Figure size 640x480 with 1 Axes>"
      ]
     },
     "metadata": {},
     "output_type": "display_data"
    }
   ],
   "source": [
    "import random\n",
    "import matplotlib.pyplot as plt\n",
    "\n",
    "def generate_random_variable(probabilities):\n",
    "    Y = random.choices(range(1, len(probabilities) + 1), probabilities)[0]\n",
    "    \n",
    "    U = random.random()\n",
    "    \n",
    "    cumulative_sum = 0\n",
    "    for i, p in enumerate(probabilities):\n",
    "        cumulative_sum += p\n",
    "        if i + 1 == Y:\n",
    "            inverse_cdf = cumulative_sum\n",
    "            break\n",
    "\n",
    "    V = inverse_cdf + (1 - inverse_cdf) * U\n",
    "    return V\n",
    "\n",
    "def example_distribution():\n",
    "    probabilities = [0.1, 0.2, 0.3, 0.5, 0.7, 0.1]\n",
    "    \n",
    "    random_variables = [generate_random_variable(probabilities) for _ in range(1000)]\n",
    "    \n",
    "    plt.hist(random_variables, bins=30, density=True, alpha=0.6)\n",
    "    plt.xlabel('Valor de la variable aleatoria')\n",
    "    plt.ylabel('Probabilidad')\n",
    "    plt.title('Histograma de la distribución de ejemplo')\n",
    "    plt.grid(True)\n",
    "    plt.show()\n",
    "\n",
    "if __name__ == \"__main__\":\n",
    "    example_distribution()\n"
   ]
  },
  {
   "cell_type": "markdown",
   "metadata": {},
   "source": [
    "-------\n",
    "## Tasks 2\n",
    "\n",
    "Task 3\n",
    "Suponga que usted es gerente de proyecto en Inversiones Chileras S.A.; y debe elegir entre dos proyectos a realizar, la construcción de un Hotel o la construcción de de un Centro Comercial.\n",
    "\n",
    "Si el parámetro que quiere utilizar para comprar ambos proyectos es el Valor Presente Neto al 10% del costo de\n",
    "capital.\n",
    "1. Realice tres simulaciones para determinar cuál de los proyectos es el más rentable. Utilice 100, 1,000 y\n",
    "10,000 iteraciones"
   ]
  },
  {
   "cell_type": "code",
   "execution_count": 14,
   "metadata": {},
   "outputs": [
    {
     "name": "stdout",
     "output_type": "stream",
     "text": [
      "Simulación con 100 iteraciones:\n",
      "VPN promedio Hotel: 1695.8503574018926\n",
      "VPN promedio Centro Comercial: 1985.7725412207585\n",
      "Proyecto más rentable: Centro Comercial\n",
      "--------------------------------------------------\n",
      "Simulación con 1000 iteraciones:\n",
      "VPN promedio Hotel: 1716.3335599836166\n",
      "VPN promedio Centro Comercial: 1882.8686782533941\n",
      "Proyecto más rentable: Centro Comercial\n",
      "--------------------------------------------------\n",
      "Simulación con 10000 iteraciones:\n",
      "VPN promedio Hotel: 1699.1187328653507\n",
      "VPN promedio Centro Comercial: 1895.6549603264389\n",
      "Proyecto más rentable: Centro Comercial\n",
      "--------------------------------------------------\n"
     ]
    }
   ],
   "source": [
    "import random\n",
    "\n",
    "def calcular_vpn(flujos_caja, tasa_descuento):\n",
    "    costo_inicial = flujos_caja[0]\n",
    "    vpn = -costo_inicial\n",
    "    for t in range(1, len(flujos_caja)):\n",
    "        vpn += flujos_caja[t] / (1 + tasa_descuento) ** t\n",
    "    return vpn\n",
    "\n",
    "def simulacion_proyecto(proyecto, num_iteraciones, tasa_descuento):\n",
    "    vpns = []\n",
    "    for _ in range(num_iteraciones):\n",
    "        flujos_caja_simulados = [random.choice(dist) if isinstance(dist, list) else dist for dist in proyecto]\n",
    "        vpn = calcular_vpn(flujos_caja_simulados, tasa_descuento)\n",
    "        vpns.append(vpn)\n",
    "    return vpns\n",
    "\n",
    "proyecto_hotel = [\n",
    "    -800,\n",
    "    [random.normalvariate(-800, 50) for _ in range(1, 8)],\n",
    "    [random.normalvariate(-800, 100) for _ in range(1, 8)],\n",
    "    [random.normalvariate(-700, 150) for _ in range(1, 8)],\n",
    "    [random.normalvariate(300, 200) for _ in range(1, 8)],\n",
    "    [random.normalvariate(400, 200) for _ in range(1, 8)],\n",
    "    [random.normalvariate(500, 200) for _ in range(1, 8)],\n",
    "    [random.uniform(200, 8480) for _ in range(1, 8)]\n",
    "]\n",
    "\n",
    "proyecto_centro_comercial = [\n",
    "    -900,\n",
    "    [random.normalvariate(-600, 50) for _ in range(1, 8)],\n",
    "    [random.normalvariate(-200, 50) for _ in range(1, 8)],\n",
    "    [random.normalvariate(-600, 100) for _ in range(1, 8)],\n",
    "    [random.normalvariate(250, 150) for _ in range(1, 8)],\n",
    "    [random.normalvariate(350, 150) for _ in range(1, 8)],\n",
    "    [random.normalvariate(400, 150) for _ in range(1, 8)],\n",
    "    [random.uniform(1600, 6000) for _ in range(1, 8)]\n",
    "]\n",
    "\n",
    "num_iteraciones = [100, 1000, 10000]\n",
    "for i in num_iteraciones:\n",
    "    vpns_hotel = simulacion_proyecto(proyecto_hotel, i, 0.10)\n",
    "    vpns_cc = simulacion_proyecto(proyecto_centro_comercial, i, 0.10)\n",
    "\n",
    "    vpn_promedio_hotel = sum(vpns_hotel) / len(vpns_hotel)\n",
    "    vpn_promedio_cc = sum(vpns_cc) / len(vpns_cc)\n",
    "\n",
    "    print(f\"Simulación con {i} iteraciones:\")\n",
    "    print(\"VPN promedio Hotel:\", vpn_promedio_hotel)\n",
    "    print(\"VPN promedio Centro Comercial:\", vpn_promedio_cc)\n",
    "    print(\"Proyecto más rentable:\", \"Hotel\" if vpn_promedio_hotel > vpn_promedio_cc else \"Centro Comercial\")\n",
    "    print(\"--------------------------------------------------\")\n"
   ]
  }
 ],
 "metadata": {
  "kernelspec": {
   "display_name": "Python 3",
   "language": "python",
   "name": "python3"
  },
  "language_info": {
   "codemirror_mode": {
    "name": "ipython",
    "version": 3
   },
   "file_extension": ".py",
   "mimetype": "text/x-python",
   "name": "python",
   "nbconvert_exporter": "python",
   "pygments_lexer": "ipython3",
   "version": "3.11.4"
  },
  "orig_nbformat": 4
 },
 "nbformat": 4,
 "nbformat_minor": 2
}
