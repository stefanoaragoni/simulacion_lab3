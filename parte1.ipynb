{
 "cells": [
  {
   "cell_type": "markdown",
   "metadata": {},
   "source": [
    "## Parte 1 - Laboratorio 3 - Modelación y Simulación"
   ]
  },
  {
   "cell_type": "markdown",
   "metadata": {},
   "source": [
    "### Tasks 1\n",
    "#### *Suponga que en un escenario totalmente ficticio existe un virus conocido como el virus T. Se ha descubierto que este existe en el 0.5% de la población, y a la vez se ha desarrollado una prueba que es efectiva detectando el 97% de las veces si una persona está infectada. Pero, esta prueba da un falso positivo el 0.1% de las veces. Considerando esto conteste*"
   ]
  },
  {
   "cell_type": "markdown",
   "metadata": {},
   "source": [
    "##### a. Si una persona resulta con una prueba positiva para el virus T, ¿cuál es la probabilidad de realmente tener dicho virus?"
   ]
  },
  {
   "cell_type": "markdown",
   "metadata": {},
   "source": [
    "* P(T) = 0.005 - tener el virus T\n",
    "* P(T') = 0.995 - no tener el virus T\n",
    "* P(+|T) = 0.97 - verdadero positivo\n",
    "* P(+|T') = 0.001 - falso positivo\n",
    "* P(T|+) = P(+|T)P(T) / P(+)\n",
    "    * P(+) = P(+|T)P(T) + P(+|T')P(T') = 0.97 * 0.005 + 0.001 * 0.995 = 4.85e-3 + 9.95e-4 = 5.845e-3\n",
    "* P(T|+) = 0.97 * 0.005 / 5.845e-3 = 0.829769 = 0.83"
   ]
  },
  {
   "cell_type": "markdown",
   "metadata": {},
   "source": [
    "* Fórmula de probabilidad total\n",
    "    P(A) = P(A|B)P(B) + P(A|B')P(B')\n",
    "* Fórmula de Bayes\n",
    "    P(A|B) = P(B|A)P(A)/P(B)"
   ]
  },
  {
   "cell_type": "markdown",
   "metadata": {},
   "source": [
    "##### b. Si un grupo de 5 personas se han tratado de refugiar y para ello han hecho una prueba cada uno.¿Cuál es la probabilidad de que 3 resulten positivos? Si dado el caso estos tres resulten positivos en la prueba, ¿cuál es la probabilidad de que al menos 2 tengan el virus?"
   ]
  },
  {
   "cell_type": "markdown",
   "metadata": {},
   "source": [
    "* Variable aleatoria binomial: P(X=i) = (n!/i!(n-i)!) p^i (1-p)^(n-i)\n",
    "* Probabilidad de 3 positivos:\n",
    "    * P(+) = 5.845e-03\n",
    "    * P(X=3) = (5!/3!(5-3)!) * (5.845e-03)^3 * (1-5.845e-03)^(5-3) = 1.97e-06\n",
    "* Probabilidad de que al menos 2 tengan el virus:\n",
    "    *Probabilidad de que 2 de 3 tengan el virus:\n",
    "        * P(TT-) = P(T|+) * P(T|+) * (1 - P(T|+)) = 5.845e-03 * 5.845e-03 * (1 - 5.845e-03) = 3.396e-05\n",
    "    * Probabilidad de que 3 de 3 tengan el virus:\n",
    "        * P(TTT) = P(T|+) * P(T|+) * P(T|+) = 5.845e-03 * 5.845e-03 * 5.845e-03 = 1.996e-07\n",
    "    * Probabilidad de que al menos 2 tengan el virus: P(TTT) + P(TT-) = 3.396e-05 + 1.996e-07 = 3.416e-05\n"
   ]
  }
 ],
 "metadata": {
  "language_info": {
   "name": "python"
  },
  "orig_nbformat": 4
 },
 "nbformat": 4,
 "nbformat_minor": 2
}
